{
 "cells": [
  {
   "cell_type": "code",
   "execution_count": 2,
   "metadata": {},
   "outputs": [],
   "source": [
    "import os\n",
    "import pandas as pd\n",
    "import numpy as np\n",
    "import matplotlib.pyplot as plt\n",
    "%matplotlib inline\n",
    "import matplotlib.colors\n",
    "from pyspark.sql import SparkSession\n",
    "from pyspark.sql import Row\n",
    "from pyspark.sql import functions\n",
    "from pyspark.sql.types import *\n",
    "from pyspark.sql.functions import *"
   ]
  },
  {
   "cell_type": "code",
   "execution_count": 3,
   "metadata": {},
   "outputs": [],
   "source": [
    "# start spark-shell by terminal\n",
    "# set up sparkcontext\n",
    "from pyspark import SparkContext \n",
    "sc = SparkContext.getOrCreate()\n",
    "\n",
    "# read local file and return RDD\n",
    "rdd = sc.textFile(name=\"/Users/cheng/Desktop/musicbox/log/all_play.log.fn\")"
   ]
  },
  {
   "cell_type": "code",
   "execution_count": 4,
   "metadata": {},
   "outputs": [
    {
     "data": {
      "text/plain": [
       "['264715 \\t 20170302_1_play.log',\n",
       " '292363 \\t 20170302_1_play.log',\n",
       " '154824972 \\tar \\t3300104 \\t0 \\tNot A Love Song \\tBean \\t22 \\t178 \\t0 \\t 20170302_1_play.log',\n",
       " '154431666 \\tar \\t6651913 \\t0 \\t再见只是陌生人 \\t庄心妍 \\t252 \\t251 \\t0 \\t 20170302_1_play.log',\n",
       " '154439430 \\tar \\t20870987 \\t0 \\t哥哥 \\t张杰 \\t358 \\t358 \\t0 \\t 20170302_1_play.log']"
      ]
     },
     "execution_count": 4,
     "metadata": {},
     "output_type": "execute_result"
    }
   ],
   "source": [
    "# return first 5 elements of RDD\n",
    "rdd.take(5)"
   ]
  },
  {
   "cell_type": "code",
   "execution_count": 5,
   "metadata": {},
   "outputs": [],
   "source": [
    "from pyspark import StorageLevel\n",
    "MEMORY_AND_DISK_SER = StorageLevel(True, True, False, False, 1)"
   ]
  },
  {
   "cell_type": "code",
   "execution_count": 13,
   "metadata": {},
   "outputs": [],
   "source": [
    "spark = SparkSession \\\n",
    "    .builder \\\n",
    "    .appName(\"MusicBox Capstone\") \\\n",
    "    .getOrCreate()\n",
    "\n",
    "# appName: Sets a name for the application, which will be shown in the Spark web UI\n",
    "# config(string for configuration property, value string)\n",
    "# config(conf=SparkConf())\n",
    "# can create a class pyspark.SparkConf(..), and call it in when building a SparkSession\n",
    "# .config(\"spark.some.config.option\", \"some-value\") \\"
   ]
  },
  {
   "cell_type": "code",
   "execution_count": 14,
   "metadata": {},
   "outputs": [
    {
     "data": {
      "text/plain": [
       "63855221"
      ]
     },
     "execution_count": 14,
     "metadata": {},
     "output_type": "execute_result"
    }
   ],
   "source": [
    "# takes 4 minutes to run.... cautious# takes \n",
    "rdd.count()"
   ]
  },
  {
   "cell_type": "code",
   "execution_count": 15,
   "metadata": {},
   "outputs": [],
   "source": [
    "# read a sample log, get a sense how to create a schema for parsing log file into DataFrame\n",
    "# schema_orig = ['uid','device','song_id','song_type','song_name','singer','play_time','song_length','paid_flag']\n",
    "# df = pd.read_csv('../Data/Play/20170331_1_play.log',delimiter='\\t',header=None,index_col=None,names=schema)\n",
    "# df.info()"
   ]
  },
  {
   "cell_type": "code",
   "execution_count": 16,
   "metadata": {},
   "outputs": [],
   "source": [
    "def parseLine(line):\n",
    "    fields = line.split(\"\\t\")\n",
    "    if len(fields) == 10:\n",
    "        try: \n",
    "            uid = str(fields[0])\n",
    "            device = str(fields[1])\n",
    "            song_id = float(fields[2])\n",
    "            song_type = float(fields[3])\n",
    "            song_name = str(fields[4])\n",
    "            singer = str(fields[5])\n",
    "            play_time = float(fields[6])\n",
    "            song_length = float(fields[7])\n",
    "            paid_flag = float(fields[8])\n",
    "            file_name = str(fields[9])\n",
    "            return Row(uid, device, song_id, song_type, song_name, singer, play_time, song_length, paid_flag, file_name)\n",
    "        except:\n",
    "            return -1\n",
    "    else:\n",
    "        return -1\n",
    "    \n",
    "    \n",
    "    \n",
    "    \n",
    "# Create Row entries that specify column name, to prepare the RDD to convert it to a DataFrame\n",
    "# Always important to filter on field length after splitting, to avoid \"index out of range error\""
   ]
  },
  {
   "cell_type": "code",
   "execution_count": 17,
   "metadata": {},
   "outputs": [],
   "source": [
    "# Provide schema in order to create DataFrame\n",
    "# Spark SQL StructType is the data type representing rows. \n",
    "# A StructType object comprises a list of StructField, which represents a field in a StructType\n",
    "# StructField(name of this field, dataType, nullable)\n",
    "\n",
    "\n",
    "schema = StructType([StructField('uid', StringType(), False),\n",
    "                     StructField('device', StringType(), True),\n",
    "                     StructField('song_id', FloatType(), False),\n",
    "                     StructField('song_type', FloatType(), True),\n",
    "                     StructField('song_name', StringType(), True),\n",
    "                     StructField('singer', StringType(), True),\n",
    "                     StructField('play_time', FloatType(), False),\n",
    "                     StructField('song_length', FloatType(), True),\n",
    "                     StructField('paid_flag', FloatType(), True),\n",
    "                     StructField('file_name', StringType(), True),])"
   ]
  },
  {
   "cell_type": "code",
   "execution_count": 20,
   "metadata": {},
   "outputs": [
    {
     "data": {
      "text/plain": [
       "10"
      ]
     },
     "execution_count": 20,
     "metadata": {},
     "output_type": "execute_result"
    }
   ],
   "source": [
    "len(schema)"
   ]
  },
  {
   "cell_type": "code",
   "execution_count": 21,
   "metadata": {},
   "outputs": [],
   "source": [
    "songs = rdd.map(parseLine).filter(lambda x: x!= -1)"
   ]
  },
  {
   "cell_type": "code",
   "execution_count": 22,
   "metadata": {},
   "outputs": [],
   "source": [
    "song_df = spark.createDataFrame(songs, schema)"
   ]
  },
  {
   "cell_type": "code",
   "execution_count": 23,
   "metadata": {},
   "outputs": [
    {
     "data": {
      "text/plain": [
       "StructType(List(StructField(uid,StringType,false),StructField(device,StringType,true),StructField(song_id,FloatType,false),StructField(song_type,FloatType,true),StructField(song_name,StringType,true),StructField(singer,StringType,true),StructField(play_time,FloatType,false),StructField(song_length,FloatType,true),StructField(paid_flag,FloatType,true),StructField(file_name,StringType,true)))"
      ]
     },
     "execution_count": 23,
     "metadata": {},
     "output_type": "execute_result"
    }
   ],
   "source": [
    "song_df.schema"
   ]
  },
  {
   "cell_type": "code",
   "execution_count": 24,
   "metadata": {},
   "outputs": [
    {
     "data": {
      "text/html": [
       "<div>\n",
       "<style scoped>\n",
       "    .dataframe tbody tr th:only-of-type {\n",
       "        vertical-align: middle;\n",
       "    }\n",
       "\n",
       "    .dataframe tbody tr th {\n",
       "        vertical-align: top;\n",
       "    }\n",
       "\n",
       "    .dataframe thead th {\n",
       "        text-align: right;\n",
       "    }\n",
       "</style>\n",
       "<table border=\"1\" class=\"dataframe\">\n",
       "  <thead>\n",
       "    <tr style=\"text-align: right;\">\n",
       "      <th></th>\n",
       "      <th>uid</th>\n",
       "      <th>device</th>\n",
       "      <th>song_id</th>\n",
       "      <th>song_type</th>\n",
       "      <th>song_name</th>\n",
       "      <th>singer</th>\n",
       "      <th>play_time</th>\n",
       "      <th>song_length</th>\n",
       "      <th>paid_flag</th>\n",
       "      <th>file_name</th>\n",
       "    </tr>\n",
       "  </thead>\n",
       "  <tbody>\n",
       "    <tr>\n",
       "      <th>0</th>\n",
       "      <td>154824972</td>\n",
       "      <td>ar</td>\n",
       "      <td>3300104.0</td>\n",
       "      <td>0.0</td>\n",
       "      <td>Not A Love Song</td>\n",
       "      <td>Bean</td>\n",
       "      <td>22.0</td>\n",
       "      <td>178.0</td>\n",
       "      <td>0.0</td>\n",
       "      <td>20170302_1_play.log</td>\n",
       "    </tr>\n",
       "    <tr>\n",
       "      <th>1</th>\n",
       "      <td>154431666</td>\n",
       "      <td>ar</td>\n",
       "      <td>6651913.0</td>\n",
       "      <td>0.0</td>\n",
       "      <td>再见只是陌生人</td>\n",
       "      <td>庄心妍</td>\n",
       "      <td>252.0</td>\n",
       "      <td>251.0</td>\n",
       "      <td>0.0</td>\n",
       "      <td>20170302_1_play.log</td>\n",
       "    </tr>\n",
       "    <tr>\n",
       "      <th>2</th>\n",
       "      <td>154439430</td>\n",
       "      <td>ar</td>\n",
       "      <td>20870988.0</td>\n",
       "      <td>0.0</td>\n",
       "      <td>哥哥</td>\n",
       "      <td>张杰</td>\n",
       "      <td>358.0</td>\n",
       "      <td>358.0</td>\n",
       "      <td>0.0</td>\n",
       "      <td>20170302_1_play.log</td>\n",
       "    </tr>\n",
       "    <tr>\n",
       "      <th>3</th>\n",
       "      <td>154739280</td>\n",
       "      <td>ar</td>\n",
       "      <td>872687.0</td>\n",
       "      <td>0.0</td>\n",
       "      <td>苦酒一杯又一杯</td>\n",
       "      <td>龙飘飘</td>\n",
       "      <td>164.0</td>\n",
       "      <td>165.0</td>\n",
       "      <td>0.0</td>\n",
       "      <td>20170302_1_play.log</td>\n",
       "    </tr>\n",
       "    <tr>\n",
       "      <th>4</th>\n",
       "      <td>154798546</td>\n",
       "      <td>ar</td>\n",
       "      <td>2632638.0</td>\n",
       "      <td>0.0</td>\n",
       "      <td>旋转的潮流</td>\n",
       "      <td>Della</td>\n",
       "      <td>783.0</td>\n",
       "      <td>0.0</td>\n",
       "      <td>0.0</td>\n",
       "      <td>20170302_1_play.log</td>\n",
       "    </tr>\n",
       "  </tbody>\n",
       "</table>\n",
       "</div>"
      ],
      "text/plain": [
       "          uid device     song_id  song_type         song_name  singer  \\\n",
       "0  154824972     ar    3300104.0        0.0  Not A Love Song    Bean    \n",
       "1  154431666     ar    6651913.0        0.0          再见只是陌生人     庄心妍    \n",
       "2  154439430     ar   20870988.0        0.0               哥哥      张杰    \n",
       "3  154739280     ar     872687.0        0.0          苦酒一杯又一杯     龙飘飘    \n",
       "4  154798546     ar    2632638.0        0.0            旋转的潮流   Della    \n",
       "\n",
       "   play_time  song_length  paid_flag             file_name  \n",
       "0       22.0        178.0        0.0   20170302_1_play.log  \n",
       "1      252.0        251.0        0.0   20170302_1_play.log  \n",
       "2      358.0        358.0        0.0   20170302_1_play.log  \n",
       "3      164.0        165.0        0.0   20170302_1_play.log  \n",
       "4      783.0          0.0        0.0   20170302_1_play.log  "
      ]
     },
     "execution_count": 24,
     "metadata": {},
     "output_type": "execute_result"
    }
   ],
   "source": [
    "pd.DataFrame(song_df.take(5), columns=song_df.columns)"
   ]
  },
  {
   "cell_type": "code",
   "execution_count": 25,
   "metadata": {},
   "outputs": [],
   "source": [
    "all_uid_count = song_df.groupBy('uid').count().orderBy('count', ascending = False) \\\n",
    "                       .persist(MEMORY_AND_DISK_SER)\n",
    "# takes hours to run... DO NOT re-run!"
   ]
  },
  {
   "cell_type": "code",
   "execution_count": 26,
   "metadata": {},
   "outputs": [
    {
     "name": "stdout",
     "output_type": "stream",
     "text": [
      "+---------+-------+\n",
      "|      uid|  count|\n",
      "+---------+-------+\n",
      "|  1685126|1788790|\n",
      "| 37025504|1298955|\n",
      "|  1791497|1231304|\n",
      "|   751824|1045712|\n",
      "|   497685| 782554|\n",
      "|  1062806| 589294|\n",
      "| 1685126 | 558830|\n",
      "|   736305| 454211|\n",
      "|37025504 | 410901|\n",
      "|  1749320| 179445|\n",
      "|        0| 139824|\n",
      "|  1679121| 115919|\n",
      "| 46532274| 115097|\n",
      "|26036032 | 101643|\n",
      "| 28638487|  94246|\n",
      "| 1749320 |  62405|\n",
      "|   637650|  53743|\n",
      "|  398309 |  49564|\n",
      "|28638487 |  48429|\n",
      "|155948236|  43398|\n",
      "+---------+-------+\n",
      "only showing top 20 rows\n",
      "\n"
     ]
    }
   ],
   "source": [
    "all_uid_count.show()"
   ]
  },
  {
   "cell_type": "code",
   "execution_count": 29,
   "metadata": {},
   "outputs": [
    {
     "data": {
      "text/plain": [
       "744347"
      ]
     },
     "execution_count": 29,
     "metadata": {},
     "output_type": "execute_result"
    }
   ],
   "source": [
    "all_uid_count.count()"
   ]
  },
  {
   "cell_type": "code",
   "execution_count": 30,
   "metadata": {},
   "outputs": [
    {
     "data": {
      "text/plain": [
       "[(Row(uid='1685126', count=1788790), 0),\n",
       " (Row(uid='37025504', count=1298955), 1)]"
      ]
     },
     "execution_count": 30,
     "metadata": {},
     "output_type": "execute_result"
    }
   ],
   "source": [
    "# use ordered all_uid_count to accelerate percentile calc ! \n",
    "all_uid_count.rdd.zipWithIndex().take(2)"
   ]
  },
  {
   "cell_type": "code",
   "execution_count": 31,
   "metadata": {},
   "outputs": [
    {
     "name": "stdout",
     "output_type": "stream",
     "text": [
      "99.9 pctil, 98 pctil, medium, 25 pctil number of play counts is: \n",
      "\n"
     ]
    },
    {
     "data": {
      "text/plain": [
       "[868,\n",
       " 17373,\n",
       " 434384,\n",
       " 651576,\n",
       " [(Row(uid='154833292 ', count=1618), 868)],\n",
       " [(Row(uid='168989607', count=468), 17373)],\n",
       " [(Row(uid='167880643', count=15), 434384)],\n",
       " [(Row(uid='168238220', count=2), 651576)]]"
      ]
     },
     "execution_count": 31,
     "metadata": {},
     "output_type": "execute_result"
    }
   ],
   "source": [
    "# to get percentile of number of plays \n",
    "p999 = 868\n",
    "p99 = 8687\n",
    "p98 = 17373\n",
    "p97 = 26061\n",
    "p95 = 43435\n",
    "p50 = 434384\n",
    "p25 = 651576\n",
    "percentile_count = [p999, p98, p50, p25]\n",
    "for myIndex in [p999, p98, p50, p25]:\n",
    "    values = (all_uid_count.rdd\n",
    "                           .zipWithIndex()\n",
    "                           .filter(lambda x: x[1] == myIndex)\n",
    "                           .collect())\n",
    "\n",
    "    percentile_count.append(values)\n",
    "\n",
    "print('99.9 pctil, 98 pctil, medium, 25 pctil number of play counts is: \\n') \n",
    "percentile_count"
   ]
  },
  {
   "cell_type": "code",
   "execution_count": 33,
   "metadata": {},
   "outputs": [],
   "source": [
    "# 99 pctile = 8687, 97 pctile = 956, 95 pctile = 674"
   ]
  },
  {
   "cell_type": "code",
   "execution_count": 34,
   "metadata": {},
   "outputs": [],
   "source": [
    "p_df = pd.DataFrame(np.arange(0.05, 1, 0.05), columns=['percentile'])\n",
    "p_df = p_df.append(pd.DataFrame([0.96, 0.97, 0.98, 0.99, 0.995, 0.999], columns=['percentile']), ignore_index=True)\n",
    "p_df['num_plays'] = pd.Series([1, 2, 3, 5, 8, 11, 14, 17, 22, 29, 39, 51, 68, 91, 123, 169, 243, 370, 674, \\\n",
    "                               790, 956, 1224, 1769, 2406, 4560])"
   ]
  },
  {
   "cell_type": "code",
   "execution_count": 35,
   "metadata": {},
   "outputs": [
    {
     "data": {
      "text/plain": [
       "<matplotlib.figure.Figure at 0x10ab00860>"
      ]
     },
     "metadata": {},
     "output_type": "display_data"
    },
    {
     "data": {
      "image/png": "[encoded data removed]",
      "text/plain": [
       "<matplotlib.figure.Figure at 0x10ab00be0>"
      ]
     },
     "metadata": {},
     "output_type": "display_data"
    }
   ],
   "source": [
    "plt.clf()\n",
    "plt.rcdefaults()\n",
    "fig, ax = plt.subplots(figsize=(15, 5))\n",
    "ax.plot(p_df['percentile'], p_df['num_plays'])\n",
    "ax.set_xlabel('percentile of number of plays')\n",
    "ax.set_ylabel('number of plays') \n",
    "ax.set_xticks(np.arange(0,1.05, 0.05))\n",
    "ax.set_title('Identifying Testing/Robot Accounts')\n",
    "plt.show()"
   ]
  },
  {
   "cell_type": "code",
   "execution_count": 37,
   "metadata": {},
   "outputs": [],
   "source": [
    "# very slow. do not do it again\n",
    "all_uid_count.repartition(1).write.csv('/Users/cheng/Desktop/musicbox/log/all_uid_count', header=True)"
   ]
  },
  {
   "cell_type": "code",
   "execution_count": 41,
   "metadata": {},
   "outputs": [],
   "source": [
    "#all_uid_count = spark.read.csv('/Users/cheng/Desktop/musicbox/log/all_uid_count.csv', header=True)"
   ]
  },
  {
   "cell_type": "code",
   "execution_count": 42,
   "metadata": {},
   "outputs": [],
   "source": [
    "#song_df.select('play_time', 'song_length', 'paid_flag').describe().show()"
   ]
  },
  {
   "cell_type": "code",
   "execution_count": 43,
   "metadata": {},
   "outputs": [],
   "source": [
    "song_df_2 = song_df.withColumn(\"device\", trim(song_df.device)) \\\n",
    "                               .withColumn('date_str', trim(song_df.file_name.substr(1,9))) \\\n",
    "                               .withColumn('date_string', regexp_replace('date_str', '20170339', '20170329')) \\\n",
    "                               .withColumn(\"unix_date\", unix_timestamp('date_string', 'yyyyMMdd')) \\\n",
    "                               .withColumn(\"date\", from_unixtime('unix_date').cast(DateType())) \\\n",
    "                               .drop('date_str') \\\n",
    "                               .drop('date_string') \\\n",
    "                               .drop('unix_date') \\\n",
    "                               .drop('paid_flag') \\\n",
    "                               .drop('song_name') \\\n",
    "                               .drop('singer') \\\n",
    "                               .dropna(how='any', subset=['play_time'])"
   ]
  },
  {
   "cell_type": "code",
   "execution_count": 44,
   "metadata": {},
   "outputs": [
    {
     "data": {
      "text/html": [
       "<div>\n",
       "<style scoped>\n",
       "    .dataframe tbody tr th:only-of-type {\n",
       "        vertical-align: middle;\n",
       "    }\n",
       "\n",
       "    .dataframe tbody tr th {\n",
       "        vertical-align: top;\n",
       "    }\n",
       "\n",
       "    .dataframe thead th {\n",
       "        text-align: right;\n",
       "    }\n",
       "</style>\n",
       "<table border=\"1\" class=\"dataframe\">\n",
       "  <thead>\n",
       "    <tr style=\"text-align: right;\">\n",
       "      <th></th>\n",
       "      <th>uid</th>\n",
       "      <th>device</th>\n",
       "      <th>song_id</th>\n",
       "      <th>song_type</th>\n",
       "      <th>play_time</th>\n",
       "      <th>song_length</th>\n",
       "      <th>file_name</th>\n",
       "      <th>date</th>\n",
       "    </tr>\n",
       "  </thead>\n",
       "  <tbody>\n",
       "    <tr>\n",
       "      <th>0</th>\n",
       "      <td>154824972</td>\n",
       "      <td>ar</td>\n",
       "      <td>3300104.0</td>\n",
       "      <td>0.0</td>\n",
       "      <td>22.0</td>\n",
       "      <td>178.0</td>\n",
       "      <td>20170302_1_play.log</td>\n",
       "      <td>2017-03-02</td>\n",
       "    </tr>\n",
       "    <tr>\n",
       "      <th>1</th>\n",
       "      <td>154431666</td>\n",
       "      <td>ar</td>\n",
       "      <td>6651913.0</td>\n",
       "      <td>0.0</td>\n",
       "      <td>252.0</td>\n",
       "      <td>251.0</td>\n",
       "      <td>20170302_1_play.log</td>\n",
       "      <td>2017-03-02</td>\n",
       "    </tr>\n",
       "    <tr>\n",
       "      <th>2</th>\n",
       "      <td>154439430</td>\n",
       "      <td>ar</td>\n",
       "      <td>20870988.0</td>\n",
       "      <td>0.0</td>\n",
       "      <td>358.0</td>\n",
       "      <td>358.0</td>\n",
       "      <td>20170302_1_play.log</td>\n",
       "      <td>2017-03-02</td>\n",
       "    </tr>\n",
       "    <tr>\n",
       "      <th>3</th>\n",
       "      <td>154739280</td>\n",
       "      <td>ar</td>\n",
       "      <td>872687.0</td>\n",
       "      <td>0.0</td>\n",
       "      <td>164.0</td>\n",
       "      <td>165.0</td>\n",
       "      <td>20170302_1_play.log</td>\n",
       "      <td>2017-03-02</td>\n",
       "    </tr>\n",
       "    <tr>\n",
       "      <th>4</th>\n",
       "      <td>154798546</td>\n",
       "      <td>ar</td>\n",
       "      <td>2632638.0</td>\n",
       "      <td>0.0</td>\n",
       "      <td>783.0</td>\n",
       "      <td>0.0</td>\n",
       "      <td>20170302_1_play.log</td>\n",
       "      <td>2017-03-02</td>\n",
       "    </tr>\n",
       "  </tbody>\n",
       "</table>\n",
       "</div>"
      ],
      "text/plain": [
       "          uid device     song_id  song_type  play_time  song_length  \\\n",
       "0  154824972      ar   3300104.0        0.0       22.0        178.0   \n",
       "1  154431666      ar   6651913.0        0.0      252.0        251.0   \n",
       "2  154439430      ar  20870988.0        0.0      358.0        358.0   \n",
       "3  154739280      ar    872687.0        0.0      164.0        165.0   \n",
       "4  154798546      ar   2632638.0        0.0      783.0          0.0   \n",
       "\n",
       "              file_name        date  \n",
       "0   20170302_1_play.log  2017-03-02  \n",
       "1   20170302_1_play.log  2017-03-02  \n",
       "2   20170302_1_play.log  2017-03-02  \n",
       "3   20170302_1_play.log  2017-03-02  \n",
       "4   20170302_1_play.log  2017-03-02  "
      ]
     },
     "execution_count": 44,
     "metadata": {},
     "output_type": "execute_result"
    }
   ],
   "source": [
    "pd.DataFrame(song_df_2.take(5), columns=song_df_2.columns)"
   ]
  },
  {
   "cell_type": "code",
   "execution_count": 45,
   "metadata": {},
   "outputs": [],
   "source": [
    "song_df_3 = song_df_2.drop('file_name') \\\n",
    "                     .filter(song_df_2.date>='2017-03-31') \\\n",
    "                     .filter(song_df_2.song_length > 0) \\\n",
    "                     .filter(song_df_2.song_length < 10E6) \\\n",
    "                     .filter(song_df_2.play_time >= 0) \\\n",
    "                     .filter(song_df_2.play_time<10E6)"
   ]
  },
  {
   "cell_type": "code",
   "execution_count": 46,
   "metadata": {},
   "outputs": [
    {
     "data": {
      "text/html": [
       "<div>\n",
       "<style scoped>\n",
       "    .dataframe tbody tr th:only-of-type {\n",
       "        vertical-align: middle;\n",
       "    }\n",
       "\n",
       "    .dataframe tbody tr th {\n",
       "        vertical-align: top;\n",
       "    }\n",
       "\n",
       "    .dataframe thead th {\n",
       "        text-align: right;\n",
       "    }\n",
       "</style>\n",
       "<table border=\"1\" class=\"dataframe\">\n",
       "  <thead>\n",
       "    <tr style=\"text-align: right;\">\n",
       "      <th></th>\n",
       "      <th>uid</th>\n",
       "      <th>device</th>\n",
       "      <th>song_id</th>\n",
       "      <th>song_type</th>\n",
       "      <th>play_time</th>\n",
       "      <th>song_length</th>\n",
       "      <th>date</th>\n",
       "    </tr>\n",
       "  </thead>\n",
       "  <tbody>\n",
       "    <tr>\n",
       "      <th>0</th>\n",
       "      <td>168029752</td>\n",
       "      <td>ar</td>\n",
       "      <td>1026364.0</td>\n",
       "      <td>0.0</td>\n",
       "      <td>0.0</td>\n",
       "      <td>277.0</td>\n",
       "      <td>2017-03-31</td>\n",
       "    </tr>\n",
       "    <tr>\n",
       "      <th>1</th>\n",
       "      <td>168029752</td>\n",
       "      <td>ar</td>\n",
       "      <td>234903.0</td>\n",
       "      <td>0.0</td>\n",
       "      <td>0.0</td>\n",
       "      <td>315.0</td>\n",
       "      <td>2017-03-31</td>\n",
       "    </tr>\n",
       "    <tr>\n",
       "      <th>2</th>\n",
       "      <td>167965547</td>\n",
       "      <td>ar</td>\n",
       "      <td>6606144.0</td>\n",
       "      <td>0.0</td>\n",
       "      <td>256.0</td>\n",
       "      <td>256.0</td>\n",
       "      <td>2017-03-31</td>\n",
       "    </tr>\n",
       "    <tr>\n",
       "      <th>3</th>\n",
       "      <td>168029752</td>\n",
       "      <td>ar</td>\n",
       "      <td>1026363.0</td>\n",
       "      <td>0.0</td>\n",
       "      <td>0.0</td>\n",
       "      <td>266.0</td>\n",
       "      <td>2017-03-31</td>\n",
       "    </tr>\n",
       "    <tr>\n",
       "      <th>4</th>\n",
       "      <td>168029752</td>\n",
       "      <td>ar</td>\n",
       "      <td>234901.0</td>\n",
       "      <td>0.0</td>\n",
       "      <td>245.0</td>\n",
       "      <td>245.0</td>\n",
       "      <td>2017-03-31</td>\n",
       "    </tr>\n",
       "  </tbody>\n",
       "</table>\n",
       "</div>"
      ],
      "text/plain": [
       "         uid device    song_id  song_type  play_time  song_length        date\n",
       "0  168029752     ar  1026364.0        0.0        0.0        277.0  2017-03-31\n",
       "1  168029752     ar   234903.0        0.0        0.0        315.0  2017-03-31\n",
       "2  167965547     ar  6606144.0        0.0      256.0        256.0  2017-03-31\n",
       "3  168029752     ar  1026363.0        0.0        0.0        266.0  2017-03-31\n",
       "4  168029752     ar   234901.0        0.0      245.0        245.0  2017-03-31"
      ]
     },
     "execution_count": 46,
     "metadata": {},
     "output_type": "execute_result"
    }
   ],
   "source": [
    "pd.DataFrame(song_df_3.take(5), columns=song_df_3.columns)"
   ]
  },
  {
   "cell_type": "code",
   "execution_count": 48,
   "metadata": {},
   "outputs": [
    {
     "ename": "IndentationError",
     "evalue": "unexpected indent (<ipython-input-48-491fdf3f45d4>, line 3)",
     "output_type": "error",
     "traceback": [
      "\u001b[0;36m  File \u001b[0;32m\"<ipython-input-48-491fdf3f45d4>\"\u001b[0;36m, line \u001b[0;32m3\u001b[0m\n\u001b[0;31m    .groupBy('song_type')          .agg({'play_time': 'avg',                'song_length':'avg' })          .show()\u001b[0m\n\u001b[0m    ^\u001b[0m\n\u001b[0;31mIndentationError\u001b[0m\u001b[0;31m:\u001b[0m unexpected indent\n"
     ]
    }
   ],
   "source": [
    "# test my hypothesis that song_type is related to play_time recorded in milli-seconds\n",
    "# song_df_3.sample(False, 0.00001, seed=0) \\\n",
    "         .groupBy('song_type') \\\n",
    "         .agg({'play_time': 'avg', \\\n",
    "               'song_length':'avg' }) \\\n",
    "         .show()"
   ]
  },
  {
   "cell_type": "code",
   "execution_count": 68,
   "metadata": {},
   "outputs": [
    {
     "name": "stdout",
     "output_type": "stream",
     "text": [
      "+---------+--------------+\n",
      "|song_type|max(play_time)|\n",
      "+---------+--------------+\n",
      "|      2.0|          47.0|\n",
      "|      1.0|      308476.0|\n",
      "|      0.0|      295695.0|\n",
      "+---------+--------------+\n",
      "\n"
     ]
    }
   ],
   "source": [
    "song_df_3.sample(False, 0.00001, seed=0).groupBy('song_type').agg({'play_time': \"max\"}).show()"
   ]
  },
  {
   "cell_type": "code",
   "execution_count": 69,
   "metadata": {},
   "outputs": [],
   "source": [
    "song_df_4 = song_df_3.withColumn('play_time_adj', \\\n",
    "                                 when(song_df_3.play_time > 10E3, song_df_3.play_time/1000) \\\n",
    "                                 .otherwise(song_df_3.play_time)) \\\n",
    "                     .withColumn('song_length_adj', \\\n",
    "                                 when(song_df_3.song_length > 10E3, song_df_3.song_length/1000) \\\n",
    "                                 .otherwise(song_df_3.song_length))"
   ]
  },
  {
   "cell_type": "code",
   "execution_count": 70,
   "metadata": {},
   "outputs": [
    {
     "name": "stdout",
     "output_type": "stream",
     "text": [
      "+---------+----------+--------------+\n",
      "|song_type|count(uid)|max(play_time)|\n",
      "+---------+----------+--------------+\n",
      "|      2.0|         1|          47.0|\n",
      "|      1.0|        49|      308476.0|\n",
      "|      0.0|       319|      295695.0|\n",
      "+---------+----------+--------------+\n",
      "\n"
     ]
    }
   ],
   "source": [
    "song_df_4.sample(False, 0.00001, seed=0).groupBy('song_type').agg({'play_time': \"max\", \"uid\":\"count\"}).show()"
   ]
  },
  {
   "cell_type": "code",
   "execution_count": 71,
   "metadata": {},
   "outputs": [],
   "source": [
    "song_df_5 = song_df_4.drop('play_time') \\\n",
    "                     .drop('song_length') \\\n",
    "                     .withColumnRenamed('play_time_adj', 'play_time') \\\n",
    "                     .withColumnRenamed('song_length_adj', 'song_length')"
   ]
  },
  {
   "cell_type": "code",
   "execution_count": 74,
   "metadata": {},
   "outputs": [
    {
     "data": {
      "text/plain": [
       "DataFrame[uid: string, device: string, song_id: float, song_type: float, date: date, play_time: double, song_length: double]"
      ]
     },
     "execution_count": 74,
     "metadata": {},
     "output_type": "execute_result"
    }
   ],
   "source": [
    "song_df_5.persist(MEMORY_AND_DISK_SER)"
   ]
  },
  {
   "cell_type": "code",
   "execution_count": 75,
   "metadata": {},
   "outputs": [
    {
     "data": {
      "text/plain": [
       "StructType(List(StructField(uid,StringType,false),StructField(device,StringType,true),StructField(song_id,FloatType,false),StructField(song_type,FloatType,true),StructField(date,DateType,true),StructField(play_time,DoubleType,true),StructField(song_length,DoubleType,true)))"
      ]
     },
     "execution_count": 75,
     "metadata": {},
     "output_type": "execute_result"
    }
   ],
   "source": [
    "song_df_5.schema"
   ]
  },
  {
   "cell_type": "code",
   "execution_count": 76,
   "metadata": {},
   "outputs": [
    {
     "data": {
      "text/html": [
       "<div>\n",
       "<style scoped>\n",
       "    .dataframe tbody tr th:only-of-type {\n",
       "        vertical-align: middle;\n",
       "    }\n",
       "\n",
       "    .dataframe tbody tr th {\n",
       "        vertical-align: top;\n",
       "    }\n",
       "\n",
       "    .dataframe thead th {\n",
       "        text-align: right;\n",
       "    }\n",
       "</style>\n",
       "<table border=\"1\" class=\"dataframe\">\n",
       "  <thead>\n",
       "    <tr style=\"text-align: right;\">\n",
       "      <th></th>\n",
       "      <th>uid</th>\n",
       "      <th>device</th>\n",
       "      <th>song_id</th>\n",
       "      <th>song_type</th>\n",
       "      <th>date</th>\n",
       "      <th>play_time</th>\n",
       "      <th>song_length</th>\n",
       "    </tr>\n",
       "  </thead>\n",
       "  <tbody>\n",
       "    <tr>\n",
       "      <th>0</th>\n",
       "      <td>168029752</td>\n",
       "      <td>ar</td>\n",
       "      <td>1026364.0</td>\n",
       "      <td>0.0</td>\n",
       "      <td>2017-03-31</td>\n",
       "      <td>0.0</td>\n",
       "      <td>277.0</td>\n",
       "    </tr>\n",
       "    <tr>\n",
       "      <th>1</th>\n",
       "      <td>168029752</td>\n",
       "      <td>ar</td>\n",
       "      <td>234903.0</td>\n",
       "      <td>0.0</td>\n",
       "      <td>2017-03-31</td>\n",
       "      <td>0.0</td>\n",
       "      <td>315.0</td>\n",
       "    </tr>\n",
       "    <tr>\n",
       "      <th>2</th>\n",
       "      <td>167965547</td>\n",
       "      <td>ar</td>\n",
       "      <td>6606144.0</td>\n",
       "      <td>0.0</td>\n",
       "      <td>2017-03-31</td>\n",
       "      <td>256.0</td>\n",
       "      <td>256.0</td>\n",
       "    </tr>\n",
       "    <tr>\n",
       "      <th>3</th>\n",
       "      <td>168029752</td>\n",
       "      <td>ar</td>\n",
       "      <td>1026363.0</td>\n",
       "      <td>0.0</td>\n",
       "      <td>2017-03-31</td>\n",
       "      <td>0.0</td>\n",
       "      <td>266.0</td>\n",
       "    </tr>\n",
       "    <tr>\n",
       "      <th>4</th>\n",
       "      <td>168029752</td>\n",
       "      <td>ar</td>\n",
       "      <td>234901.0</td>\n",
       "      <td>0.0</td>\n",
       "      <td>2017-03-31</td>\n",
       "      <td>245.0</td>\n",
       "      <td>245.0</td>\n",
       "    </tr>\n",
       "  </tbody>\n",
       "</table>\n",
       "</div>"
      ],
      "text/plain": [
       "         uid device    song_id  song_type        date  play_time  song_length\n",
       "0  168029752     ar  1026364.0        0.0  2017-03-31        0.0        277.0\n",
       "1  168029752     ar   234903.0        0.0  2017-03-31        0.0        315.0\n",
       "2  167965547     ar  6606144.0        0.0  2017-03-31      256.0        256.0\n",
       "3  168029752     ar  1026363.0        0.0  2017-03-31        0.0        266.0\n",
       "4  168029752     ar   234901.0        0.0  2017-03-31      245.0        245.0"
      ]
     },
     "execution_count": 76,
     "metadata": {},
     "output_type": "execute_result"
    }
   ],
   "source": [
    "pd.DataFrame(song_df_5.take(5), columns=song_df_5.columns)"
   ]
  },
  {
   "cell_type": "code",
   "execution_count": 77,
   "metadata": {},
   "outputs": [
    {
     "name": "stdout",
     "output_type": "stream",
     "text": [
      "+-------+--------------+-------------------+---------+\n",
      "|summary|     play_time|        song_length|paid_flag|\n",
      "+-------+--------------+-------------------+---------+\n",
      "|  count|      63274608|           63274608| 63274608|\n",
      "|   mean|           NaN|-183.79767182414633|      0.0|\n",
      "| stddev|           NaN|  962704.0810031396|      0.0|\n",
      "|    min|-1.02297313E11|      -2.14748365E9|      0.0|\n",
      "|    max|           NaN|       3.99313856E8|      0.0|\n",
      "+-------+--------------+-------------------+---------+\n",
      "\n"
     ]
    }
   ],
   "source": [
    "# Results from previous sanity check. Takes too long to run... \n",
    "song_df.select('play_time', 'song_length', 'paid_flag').describe().show()"
   ]
  },
  {
   "cell_type": "markdown",
   "metadata": {},
   "source": [
    ""
   ]
  },
  {
   "cell_type": "code",
   "execution_count": 78,
   "metadata": {},
   "outputs": [],
   "source": [
    "# calculate percentile in spark is very slow. Much faster in excel...# calcu \n",
    "# count_ceiling = uid_count.approxQuantile(\"count\", [0.95], 0)"
   ]
  },
  {
   "cell_type": "code",
   "execution_count": 103,
   "metadata": {},
   "outputs": [],
   "source": [
    "valid_uid = all_uid_count.filter(all_uid_count['count'] <= 2406)"
   ]
  },
  {
   "cell_type": "code",
   "execution_count": 110,
   "metadata": {},
   "outputs": [],
   "source": [
    "valid_uid.repartition(1).write.csv('/Users/cheng/Desktop/musicbox/log/valid_uic.csv')\n",
    "# in case session is terminated, to save time, just read from csv to load the DataFrame"
   ]
  },
  {
   "cell_type": "code",
   "execution_count": 111,
   "metadata": {},
   "outputs": [
    {
     "data": {
      "text/plain": [
       "744014"
      ]
     },
     "execution_count": 111,
     "metadata": {},
     "output_type": "execute_result"
    }
   ],
   "source": [
    "valid_uid.count()"
   ]
  },
  {
   "cell_type": "code",
   "execution_count": 112,
   "metadata": {},
   "outputs": [
    {
     "data": {
      "text/plain": [
       "[('uid', 'string'), ('count', 'bigint')]"
      ]
     },
     "execution_count": 112,
     "metadata": {},
     "output_type": "execute_result"
    }
   ],
   "source": [
    "valid_uid.dtypes"
   ]
  },
  {
   "cell_type": "code",
   "execution_count": null,
   "metadata": {},
   "outputs": [],
   "source": [
    "active_uid = spark.read.csv('active_uid.csv')\n",
    "# valid_uid = spark.read.csv('/Users/cheng/Desktop/musicbox/log/valid_uid.csv')"
   ]
  },
  {
   "cell_type": "code",
   "execution_count": 91,
   "metadata": {},
   "outputs": [
    {
     "data": {
      "text/plain": [
       "DataFrame[uid: string, count: int]"
      ]
     },
     "execution_count": 91,
     "metadata": {},
     "output_type": "execute_result"
    }
   ],
   "source": [
    "valid_uid"
   ]
  },
  {
   "cell_type": "code",
   "execution_count": 92,
   "metadata": {},
   "outputs": [
    {
     "data": {
      "text/plain": [
       "StructType(List(StructField(uid,StringType,true),StructField(count,IntegerType,true)))"
      ]
     },
     "execution_count": 92,
     "metadata": {},
     "output_type": "execute_result"
    }
   ],
   "source": [
    "valid_uid.schema"
   ]
  },
  {
   "cell_type": "code",
   "execution_count": 93,
   "metadata": {},
   "outputs": [],
   "source": [
    "song_df_valid = song_df_5.join(valid_uid, song_df_5.uid == valid_uid.uid, how='inner') \\\n",
    "                         .drop(song_df_5.uid) \\\n",
    "                         .persist(storageLevel=MEMORY_AND_DISK_SER)"
   ]
  },
  {
   "cell_type": "code",
   "execution_count": 86,
   "metadata": {},
   "outputs": [
    {
     "data": {
      "text/html": [
       "<div>\n",
       "<style scoped>\n",
       "    .dataframe tbody tr th:only-of-type {\n",
       "        vertical-align: middle;\n",
       "    }\n",
       "\n",
       "    .dataframe tbody tr th {\n",
       "        vertical-align: top;\n",
       "    }\n",
       "\n",
       "    .dataframe thead th {\n",
       "        text-align: right;\n",
       "    }\n",
       "</style>\n",
       "<table border=\"1\" class=\"dataframe\">\n",
       "  <thead>\n",
       "    <tr style=\"text-align: right;\">\n",
       "      <th></th>\n",
       "      <th>device</th>\n",
       "      <th>song_id</th>\n",
       "      <th>song_type</th>\n",
       "      <th>date</th>\n",
       "      <th>play_time</th>\n",
       "      <th>song_length</th>\n",
       "      <th>uid</th>\n",
       "      <th>count</th>\n",
       "    </tr>\n",
       "  </thead>\n",
       "  <tbody>\n",
       "    <tr>\n",
       "      <th>0</th>\n",
       "      <td>ar</td>\n",
       "      <td>23497506.0</td>\n",
       "      <td>0.0</td>\n",
       "      <td>2017-03-31</td>\n",
       "      <td>32.0</td>\n",
       "      <td>365.0</td>\n",
       "      <td>104777734</td>\n",
       "      <td>3</td>\n",
       "    </tr>\n",
       "    <tr>\n",
       "      <th>1</th>\n",
       "      <td>ar</td>\n",
       "      <td>23498554.0</td>\n",
       "      <td>0.0</td>\n",
       "      <td>2017-03-31</td>\n",
       "      <td>3.0</td>\n",
       "      <td>230.0</td>\n",
       "      <td>104777734</td>\n",
       "      <td>3</td>\n",
       "    </tr>\n",
       "    <tr>\n",
       "      <th>2</th>\n",
       "      <td>ar</td>\n",
       "      <td>23489300.0</td>\n",
       "      <td>0.0</td>\n",
       "      <td>2017-03-31</td>\n",
       "      <td>2.0</td>\n",
       "      <td>181.0</td>\n",
       "      <td>104777734</td>\n",
       "      <td>3</td>\n",
       "    </tr>\n",
       "    <tr>\n",
       "      <th>3</th>\n",
       "      <td>ar</td>\n",
       "      <td>6105666.0</td>\n",
       "      <td>0.0</td>\n",
       "      <td>2017-04-02</td>\n",
       "      <td>136.0</td>\n",
       "      <td>153.0</td>\n",
       "      <td>11596711</td>\n",
       "      <td>17</td>\n",
       "    </tr>\n",
       "    <tr>\n",
       "      <th>4</th>\n",
       "      <td>ar</td>\n",
       "      <td>147466.0</td>\n",
       "      <td>0.0</td>\n",
       "      <td>2017-04-02</td>\n",
       "      <td>41.0</td>\n",
       "      <td>270.0</td>\n",
       "      <td>11596711</td>\n",
       "      <td>17</td>\n",
       "    </tr>\n",
       "  </tbody>\n",
       "</table>\n",
       "</div>"
      ],
      "text/plain": [
       "  device     song_id  song_type        date  play_time  song_length  \\\n",
       "0     ar  23497506.0        0.0  2017-03-31       32.0        365.0   \n",
       "1     ar  23498554.0        0.0  2017-03-31        3.0        230.0   \n",
       "2     ar  23489300.0        0.0  2017-03-31        2.0        181.0   \n",
       "3     ar   6105666.0        0.0  2017-04-02      136.0        153.0   \n",
       "4     ar    147466.0        0.0  2017-04-02       41.0        270.0   \n",
       "\n",
       "         uid  count  \n",
       "0  104777734      3  \n",
       "1  104777734      3  \n",
       "2  104777734      3  \n",
       "3   11596711     17  \n",
       "4   11596711     17  "
      ]
     },
     "execution_count": 86,
     "metadata": {},
     "output_type": "execute_result"
    }
   ],
   "source": [
    "pd.DataFrame(song_df_valid.take(5), columns=song_df_valid.columns)"
   ]
  },
  {
   "cell_type": "markdown",
   "metadata": {},
   "source": [
    ""
   ]
  }
 ],
 "metadata": {
  "kernelspec": {
   "display_name": "Python 3",
   "language": "python",
   "name": "python3"
  },
  "language_info": {
   "codemirror_mode": {
    "name": "ipython",
    "version": 3
   },
   "file_extension": ".py",
   "mimetype": "text/x-python",
   "name": "python",
   "nbconvert_exporter": "python",
   "pygments_lexer": "ipython3",
   "version": "3.6.4"
  }
 },
 "nbformat": 4,
 "nbformat_minor": 2
}
